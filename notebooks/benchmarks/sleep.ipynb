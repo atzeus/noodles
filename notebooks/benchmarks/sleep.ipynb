{
 "cells": [
  {
   "cell_type": "code",
   "execution_count": 55,
   "metadata": {},
   "outputs": [],
   "source": [
    "from noodles import (schedule, run_parallel, gather)\n",
    "import time\n",
    "import numpy as np\n",
    "import sys\n",
    "\n",
    "\n",
    "@schedule\n",
    "def delay(dt):\n",
    "    time.sleep(dt)\n",
    "    return dt\n",
    "\n",
    "\n",
    "def measure(f, *args):\n",
    "    start = time.time()\n",
    "    ret = f(*args)\n",
    "    end = time.time()\n",
    "    return (ret, (end - start))\n",
    "\n",
    "\n",
    "def constant_time(dt, n, n_threads=8):\n",
    "    wf = schedule(sum)(\n",
    "            gather(*(delay(dt) for i in range(n))))\n",
    "\n",
    "    return measure(run_parallel, wf, n_threads)\n",
    "\n",
    "\n",
    "def null_delay(dt):\n",
    "    time.sleep(dt)\n",
    "    return dt\n",
    "\n",
    "\n",
    "def constant_null(dt, n):\n",
    "    return measure(lambda: sum([null_delay(dt) for i in range (n)]))\n",
    "\n",
    "\n",
    "def variable_time(dt, n, n_threads=8):\n",
    "    pass\n",
    "\n",
    "\n",
    "def experiment(test, n):\n",
    "    print(\"running {} with n = {}\".format(test.__name__, n), file=sys.stderr)\n",
    "    data = np.array([test(1/n, 1000) for i in range(25)])\n",
    "    mean = data.mean(axis=0)\n",
    "    std = data.std(axis=0)\n",
    "    return (1/n, n, mean[0], mean[1], std[1])"
   ]
  },
  {
   "cell_type": "code",
   "execution_count": 62,
   "metadata": {},
   "outputs": [
    {
     "name": "stderr",
     "output_type": "stream",
     "text": [
      "running constant_null with n = 64\n",
      "running constant_null with n = 128\n",
      "running constant_null with n = 256\n",
      "running constant_null with n = 512\n",
      "running constant_null with n = 1024\n",
      "running constant_null with n = 2048\n",
      "running constant_null with n = 4096\n",
      "running constant_null with n = 8192\n",
      "running constant_null with n = 16384\n",
      "running constant_null with n = 32768\n",
      "running constant_null with n = 65536\n",
      "running constant_null with n = 131072\n"
     ]
    }
   ],
   "source": [
    "result = np.array([experiment(constant_time, n) for n in [2**k for k in range(6, 18)]])\n",
    "null_test = np.array([experiment(constant_null, n) for n in [2**k for k in range(6, 18)]])"
   ]
  },
  {
   "cell_type": "code",
   "execution_count": 4,
   "metadata": {
    "collapsed": true
   },
   "outputs": [],
   "source": [
    "import matplotlib.pyplot as plt"
   ]
  },
  {
   "cell_type": "code",
   "execution_count": 63,
   "metadata": {},
   "outputs": [
    {
     "data": {
      "image/png": "[encoded data removed]",
      "text/plain": [
       "<matplotlib.figure.Figure at 0x7fc90025f470>"
      ]
     },
     "metadata": {},
     "output_type": "display_data"
    }
   ],
   "source": [
    "fig, ax = plt.subplots()\n",
    "ax.set_xscale('log')\n",
    "ax.set_yscale('log')\n",
    "ax.errorbar(result[:,0], (result[:,3] - result[:,2]/8)/1000., yerr=result[:,4]/1000.)\n",
    "ax.errorbar(null_test[:,0], (null_test[:,3] - null_test[:,2])/1000., yerr=null_test[:,4]/1000.)\n",
    "plt.show()"
   ]
  }
 ],
 "metadata": {
  "kernelspec": {
   "display_name": "Python 3",
   "language": "python",
   "name": "python3"
  },
  "language_info": {
   "codemirror_mode": {
    "name": "ipython",
    "version": 3
   },
   "file_extension": ".py",
   "mimetype": "text/x-python",
   "name": "python",
   "nbconvert_exporter": "python",
   "pygments_lexer": "ipython3",
   "version": "3.5.2"
  }
 },
 "nbformat": 4,
 "nbformat_minor": 2
}
